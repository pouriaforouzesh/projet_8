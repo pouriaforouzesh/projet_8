{
 "cells": [
  {
   "cell_type": "markdown",
   "id": "b859459c",
   "metadata": {},
   "source": [
    "<h1 style='text-align:center;border:10px double;border-color:gray;'>\n",
    "    <br/>\n",
    "     PROJET 3<br/>\n",
    "    <br/>\n",
    "    <font color = 'Navy'>\"Concevez une application au service de la santé publique\"</font>\n",
    "    <br/>\n",
    "    <br/>\n",
    "    \n",
    "</h1>\n",
    "<h4 style='text-align:left;border-color:gray;'>\n",
    "    <br/>\n",
    "    <font color = 'Navy'>* notebook d’évaluation</font>\n",
    "    <br/>\n",
    "</h4>\n",
    "\n",
    " Dirigé par :   [Pouria Forouzesh](https://www.linkedin.com/in/pouria-forouzesh/)"
   ]
  },
  {
   "attachments": {
    "image.png": {
     "image/png": "[encoded data removed]"
    }
   },
   "cell_type": "markdown",
   "id": "c4ea931b",
   "metadata": {},
   "source": [
    "Le Nutri-Score est un logo qui indique la qualité nutritionnelle des aliments avec des notes allant de A à E. Avec le NutriScore, les produits peuvent être facilement et rapidement comparés.\n",
    "\n",
    "Open Food Facts a commencé à calculer le Nutri-Score en 2014 sur son application mobile et son site Web pionniers, alors qu'il ne s'agissait que d'un document de recherche, et a accompagné son évolution, du \"score 5 couleurs\" au \"Nutri-Score\" que vous voyez dans les supermarchés aujourd'hui. Cet impact systémique a été remarqué par Santé publique France qui soutient désormais Open Food Facts dans sa mission d'aider chacun à faire des choix alimentaires plus éclairés. Pour en savoir plus sur l'histoire d'Open Food Facts et de l'Eco-Score, vous pouvez consulter notre page dédiée.\n",
    "Les données sont disponibles à l'adresse suivante : https://fr.openfoodfacts.org/\n",
    "\n",
    "Comment le Nutri-Score est-il calculé?\n",
    "\n",
    "- La note Nutri-Score est déterminée par la quantité de nutriments bons et mauvais pour la santé :\n",
    "\n",
    "Points négatifs : l'énergie, les graisses saturées, les sucres, et le sodium (des niveaux élevés sont considérés comme mauvais pour la santé)\n",
    "\n",
    "Points positifs : la proportion de fruits, de légumes, de noix, d'huiles d'olive, de colza et de noix, de fibres et de protéines (les niveaux élevés sont considérés comme bons pour la santé).\n",
    "![image.png](attachment:image.png)\n",
    "\n",
    "#### Idée : Scanner n'importe quel produit et obtenir un indicateur sur la qualiténutritionnelle du produit, note basé sur le Nutri-Score"
   ]
  },
  {
   "cell_type": "markdown",
   "id": "e0982d1a",
   "metadata": {},
   "source": [
    "#### Informations sur le Nutri-Score :\n",
    "\n",
    "Le Nutri-Score, aussi appelé système 5 couleurs, est un système d'étiquetage nutritionnel basé sur un logo avec cinq valeurs allant de A à E et du vert au rouge, établi en fonction de la valeur nutritionnelle d'un produit alimentaire. Il est mis en place par le gouvernement Français en 2016 dans le cadre de la loi de modernisation du système de santé.\n",
    "\n",
    "Le score est calculé par un système de points, le score le plus faible étant le meilleur :\n",
    "\n",
    "Eléments défavorables au score :\n",
    "- apport calorique\n",
    "- teneur en sucre\n",
    "- teneur en graisses saturés\n",
    "- teneur en sel\n",
    "\n",
    "Eléments favorables au score :\n",
    "- teneur en fruits, légumes, légumineuses et oléagineux\n",
    "- teneur en fibres\n",
    "- teneur en protéines\n",
    "\n",
    "Des points sont attribués en fonction des éléments favorables et défavorables et un grade est attribué à chaque produit en fonction de son score :\n",
    "\n",
    "Pour les aliments :\n",
    "\n",
    "A :-15 à 0\n",
    "\n",
    "B : 0 à 2\n",
    "\n",
    "C : 2 à 9\n",
    "\n",
    "D : 10 à 17\n",
    "\n",
    "E : 18 à 32\n",
    "\n",
    "Pour plus d'informations : https://quoidansmonassiette.fr/comment-est-calcule-le-nutri-score-logo-nutritionnel/"
   ]
  },
  {
   "cell_type": "markdown",
   "id": "1727fac8",
   "metadata": {},
   "source": [
    "Idée : Scanner n'importe quel produit et obtenir un indicateur sur la qualité nutritionnelle du produit, note basé sur le Nutri-Score\n"
   ]
  },
  {
   "cell_type": "code",
   "execution_count": 40,
   "id": "459bef96",
   "metadata": {},
   "outputs": [],
   "source": [
    "from joblib import load\n",
    "\n",
    "# charger le modèle à partir du fichier\n",
    "rfr = load('model.pkl')\n",
    "rfr2 = load('model2.pkl')"
   ]
  },
  {
   "cell_type": "code",
   "execution_count": 2,
   "id": "fafc54c2",
   "metadata": {},
   "outputs": [
    {
     "data": {
      "application/javascript": [
       "\n",
       "        if (window._pyforest_update_imports_cell) { window._pyforest_update_imports_cell('import pandas as pd'); }\n",
       "    "
      ],
      "text/plain": [
       "<IPython.core.display.Javascript object>"
      ]
     },
     "metadata": {},
     "output_type": "display_data"
    },
    {
     "data": {
      "text/plain": [
       "(52257, 33)"
      ]
     },
     "execution_count": 2,
     "metadata": {},
     "output_type": "execute_result"
    }
   ],
   "source": [
    "df= pd.read_csv('data_clean_principal.csv')\n",
    "dfbig = df.copy()\n",
    "df.dropna()\n",
    "df.shape"
   ]
  },
  {
   "cell_type": "code",
   "execution_count": 3,
   "id": "a871b2f8",
   "metadata": {},
   "outputs": [
    {
     "data": {
      "text/plain": [
       "(52257, 17)"
      ]
     },
     "execution_count": 3,
     "metadata": {},
     "output_type": "execute_result"
    }
   ],
   "source": [
    "df = df[['energy_100g', 'fat_100g', 'saturated-fat_100g', 'trans-fat_100g',\n",
    "       'cholesterol_100g', 'carbohydrates_100g', 'sugars_100g', 'fiber_100g',\n",
    "       'proteins_100g', 'salt_100g', 'sodium_100g', 'vitamin-a_100g',\n",
    "       'vitamin-c_100g', 'calcium_100g', 'iron_100g',\n",
    "       'nutrition-score-fr_100g', 'nutrition_grade_fr']]\n",
    "df.shape"
   ]
  },
  {
   "cell_type": "code",
   "execution_count": 4,
   "id": "b7e981b9",
   "metadata": {},
   "outputs": [
    {
     "data": {
      "text/plain": [
       "(52257, 7)"
      ]
     },
     "execution_count": 4,
     "metadata": {},
     "output_type": "execute_result"
    }
   ],
   "source": [
    "df2 = df[['saturated-fat_100g', 'calcium_100g', 'energy_100g', 'sugars_100g',\n",
    "          'salt_100g', 'nutrition-score-fr_100g', 'nutrition_grade_fr']]\n",
    "df2.shape"
   ]
  },
  {
   "cell_type": "code",
   "execution_count": 46,
   "id": "21bd2de1",
   "metadata": {},
   "outputs": [
    {
     "data": {
      "text/html": [
       "<div>\n",
       "<style scoped>\n",
       "    .dataframe tbody tr th:only-of-type {\n",
       "        vertical-align: middle;\n",
       "    }\n",
       "\n",
       "    .dataframe tbody tr th {\n",
       "        vertical-align: top;\n",
       "    }\n",
       "\n",
       "    .dataframe thead th {\n",
       "        text-align: right;\n",
       "    }\n",
       "</style>\n",
       "<table border=\"1\" class=\"dataframe\">\n",
       "  <thead>\n",
       "    <tr style=\"text-align: right;\">\n",
       "      <th></th>\n",
       "      <th>energy_100g</th>\n",
       "      <th>fat_100g</th>\n",
       "      <th>saturated-fat_100g</th>\n",
       "      <th>trans-fat_100g</th>\n",
       "      <th>cholesterol_100g</th>\n",
       "      <th>carbohydrates_100g</th>\n",
       "      <th>sugars_100g</th>\n",
       "      <th>fiber_100g</th>\n",
       "      <th>proteins_100g</th>\n",
       "      <th>salt_100g</th>\n",
       "      <th>sodium_100g</th>\n",
       "      <th>vitamin-a_100g</th>\n",
       "      <th>vitamin-c_100g</th>\n",
       "      <th>calcium_100g</th>\n",
       "      <th>iron_100g</th>\n",
       "      <th>nutrition-score-fr_100g</th>\n",
       "      <th>nutrition_grade_fr</th>\n",
       "    </tr>\n",
       "  </thead>\n",
       "  <tbody>\n",
       "    <tr>\n",
       "      <th>36013</th>\n",
       "      <td>1205.0</td>\n",
       "      <td>19.9</td>\n",
       "      <td>9.3</td>\n",
       "      <td>0.124499</td>\n",
       "      <td>0.001439</td>\n",
       "      <td>18.0</td>\n",
       "      <td>1.3</td>\n",
       "      <td>2.000000</td>\n",
       "      <td>8.7</td>\n",
       "      <td>1.524</td>\n",
       "      <td>0.600000</td>\n",
       "      <td>0.000386</td>\n",
       "      <td>0.008183</td>\n",
       "      <td>0.568122</td>\n",
       "      <td>0.013304</td>\n",
       "      <td>16.0</td>\n",
       "      <td>d</td>\n",
       "    </tr>\n",
       "    <tr>\n",
       "      <th>31519</th>\n",
       "      <td>977.0</td>\n",
       "      <td>25.2</td>\n",
       "      <td>1.7</td>\n",
       "      <td>0.042853</td>\n",
       "      <td>0.000000</td>\n",
       "      <td>1.2</td>\n",
       "      <td>0.0</td>\n",
       "      <td>5.133333</td>\n",
       "      <td>0.6</td>\n",
       "      <td>2.100</td>\n",
       "      <td>0.826772</td>\n",
       "      <td>0.000302</td>\n",
       "      <td>0.093773</td>\n",
       "      <td>0.630296</td>\n",
       "      <td>0.005947</td>\n",
       "      <td>12.0</td>\n",
       "      <td>d</td>\n",
       "    </tr>\n",
       "    <tr>\n",
       "      <th>37108</th>\n",
       "      <td>1254.0</td>\n",
       "      <td>3.2</td>\n",
       "      <td>1.2</td>\n",
       "      <td>0.436681</td>\n",
       "      <td>0.012594</td>\n",
       "      <td>61.0</td>\n",
       "      <td>42.0</td>\n",
       "      <td>0.650000</td>\n",
       "      <td>4.9</td>\n",
       "      <td>0.100</td>\n",
       "      <td>0.039370</td>\n",
       "      <td>0.000257</td>\n",
       "      <td>0.000033</td>\n",
       "      <td>0.281907</td>\n",
       "      <td>0.006382</td>\n",
       "      <td>13.0</td>\n",
       "      <td>d</td>\n",
       "    </tr>\n",
       "    <tr>\n",
       "      <th>3809</th>\n",
       "      <td>360.0</td>\n",
       "      <td>0.4</td>\n",
       "      <td>0.1</td>\n",
       "      <td>0.016771</td>\n",
       "      <td>0.000000</td>\n",
       "      <td>12.0</td>\n",
       "      <td>0.4</td>\n",
       "      <td>4.200000</td>\n",
       "      <td>6.1</td>\n",
       "      <td>0.970</td>\n",
       "      <td>0.381890</td>\n",
       "      <td>0.000375</td>\n",
       "      <td>0.019327</td>\n",
       "      <td>0.185040</td>\n",
       "      <td>0.007258</td>\n",
       "      <td>-3.0</td>\n",
       "      <td>a</td>\n",
       "    </tr>\n",
       "    <tr>\n",
       "      <th>22171</th>\n",
       "      <td>491.0</td>\n",
       "      <td>4.3</td>\n",
       "      <td>0.4</td>\n",
       "      <td>1.000000</td>\n",
       "      <td>0.000599</td>\n",
       "      <td>12.1</td>\n",
       "      <td>3.4</td>\n",
       "      <td>0.000000</td>\n",
       "      <td>7.4</td>\n",
       "      <td>1.778</td>\n",
       "      <td>0.700000</td>\n",
       "      <td>0.000224</td>\n",
       "      <td>0.013205</td>\n",
       "      <td>0.920095</td>\n",
       "      <td>0.007000</td>\n",
       "      <td>4.0</td>\n",
       "      <td>c</td>\n",
       "    </tr>\n",
       "  </tbody>\n",
       "</table>\n",
       "</div>"
      ],
      "text/plain": [
       "       energy_100g  fat_100g  saturated-fat_100g  trans-fat_100g  \\\n",
       "36013       1205.0      19.9                 9.3        0.124499   \n",
       "31519        977.0      25.2                 1.7        0.042853   \n",
       "37108       1254.0       3.2                 1.2        0.436681   \n",
       "3809         360.0       0.4                 0.1        0.016771   \n",
       "22171        491.0       4.3                 0.4        1.000000   \n",
       "\n",
       "       cholesterol_100g  carbohydrates_100g  sugars_100g  fiber_100g  \\\n",
       "36013          0.001439                18.0          1.3    2.000000   \n",
       "31519          0.000000                 1.2          0.0    5.133333   \n",
       "37108          0.012594                61.0         42.0    0.650000   \n",
       "3809           0.000000                12.0          0.4    4.200000   \n",
       "22171          0.000599                12.1          3.4    0.000000   \n",
       "\n",
       "       proteins_100g  salt_100g  sodium_100g  vitamin-a_100g  vitamin-c_100g  \\\n",
       "36013            8.7      1.524     0.600000        0.000386        0.008183   \n",
       "31519            0.6      2.100     0.826772        0.000302        0.093773   \n",
       "37108            4.9      0.100     0.039370        0.000257        0.000033   \n",
       "3809             6.1      0.970     0.381890        0.000375        0.019327   \n",
       "22171            7.4      1.778     0.700000        0.000224        0.013205   \n",
       "\n",
       "       calcium_100g  iron_100g  nutrition-score-fr_100g nutrition_grade_fr  \n",
       "36013      0.568122   0.013304                     16.0                  d  \n",
       "31519      0.630296   0.005947                     12.0                  d  \n",
       "37108      0.281907   0.006382                     13.0                  d  \n",
       "3809       0.185040   0.007258                     -3.0                  a  \n",
       "22171      0.920095   0.007000                      4.0                  c  "
      ]
     },
     "execution_count": 46,
     "metadata": {},
     "output_type": "execute_result"
    }
   ],
   "source": [
    "# Prendre 5 échantillons aléatoires\n",
    "samples = df.sample(n=5)\n",
    "samples"
   ]
  },
  {
   "cell_type": "code",
   "execution_count": 47,
   "id": "2ed438a2",
   "metadata": {},
   "outputs": [
    {
     "name": "stdout",
     "output_type": "stream",
     "text": [
      "(5, 15) (5,)\n"
     ]
    },
    {
     "data": {
      "application/javascript": [
       "\n",
       "        if (window._pyforest_update_imports_cell) { window._pyforest_update_imports_cell('from sklearn.preprocessing import StandardScaler\\nimport pandas as pd'); }\n",
       "    "
      ],
      "text/plain": [
       "<IPython.core.display.Javascript object>"
      ]
     },
     "metadata": {},
     "output_type": "display_data"
    }
   ],
   "source": [
    "X = samples.drop(columns=['nutrition-score-fr_100g', 'nutrition_grade_fr' ], axis=1)\n",
    "y = samples['nutrition-score-fr_100g']\n",
    "print(X.shape, y.shape)\n",
    "scaler = StandardScaler()\n",
    "X = scaler.fit_transform(X)\n"
   ]
  },
  {
   "cell_type": "code",
   "execution_count": 48,
   "id": "07cee1a6",
   "metadata": {},
   "outputs": [
    {
     "name": "stderr",
     "output_type": "stream",
     "text": [
      "[Parallel(n_jobs=1)]: Using backend SequentialBackend with 1 concurrent workers.\n",
      "[Parallel(n_jobs=1)]: Done 200 out of 200 | elapsed:    0.0s finished\n"
     ]
    },
    {
     "data": {
      "text/plain": [
       "[17.84, 12.485, 17.53, -6.055, 9.59]"
      ]
     },
     "execution_count": 48,
     "metadata": {},
     "output_type": "execute_result"
    }
   ],
   "source": [
    "y_pred = rfr.predict(X);\n",
    "y_pred = list(y_pred)\n",
    "y_pred"
   ]
  },
  {
   "cell_type": "code",
   "execution_count": 49,
   "id": "190d1964",
   "metadata": {},
   "outputs": [
    {
     "data": {
      "text/plain": [
       "36013    d\n",
       "31519    d\n",
       "37108    d\n",
       "3809     a\n",
       "22171    c\n",
       "Name: nutrition_grade_fr, dtype: object"
      ]
     },
     "execution_count": 49,
     "metadata": {},
     "output_type": "execute_result"
    }
   ],
   "source": [
    "samples.iloc[:,-1]"
   ]
  },
  {
   "cell_type": "code",
   "execution_count": 50,
   "id": "7fb0f128",
   "metadata": {},
   "outputs": [],
   "source": [
    "num_etiquet_group = []\n",
    "for num in y_pred:\n",
    "    \n",
    "        if -15 <= num < 0:\n",
    "            num_etiquet = 'a'\n",
    "        elif 0 <= num < 2:\n",
    "            num_etiquet = 'b'\n",
    "        elif 2 <= num < 10:    \n",
    "            num_etiquet = 'c'\n",
    "        elif 10 <= num < 18:    \n",
    "            num_etiquet = 'd'\n",
    "        elif 18 <= num <= 32:    \n",
    "            num_etiquet = 'e'\n",
    "        else:\n",
    "            num_etiquet = 'Out of range'\n",
    "        num_etiquet_group.append(num_etiquet)\n",
    "        "
   ]
  },
  {
   "cell_type": "code",
   "execution_count": 51,
   "id": "053d4e7f",
   "metadata": {},
   "outputs": [
    {
     "data": {
      "text/plain": [
       "['d', 'd', 'd', 'a', 'c']"
      ]
     },
     "execution_count": 51,
     "metadata": {},
     "output_type": "execute_result"
    }
   ],
   "source": [
    "num_etiquet_group"
   ]
  },
  {
   "cell_type": "code",
   "execution_count": 52,
   "id": "b7a86292",
   "metadata": {},
   "outputs": [
    {
     "data": {
      "application/javascript": [
       "\n",
       "        if (window._pyforest_update_imports_cell) { window._pyforest_update_imports_cell('from sklearn.preprocessing import StandardScaler\\nimport pandas as pd'); }\n",
       "    "
      ],
      "text/plain": [
       "<IPython.core.display.Javascript object>"
      ]
     },
     "metadata": {},
     "output_type": "display_data"
    },
    {
     "data": {
      "text/html": [
       "<div>\n",
       "<style scoped>\n",
       "    .dataframe tbody tr th:only-of-type {\n",
       "        vertical-align: middle;\n",
       "    }\n",
       "\n",
       "    .dataframe tbody tr th {\n",
       "        vertical-align: top;\n",
       "    }\n",
       "\n",
       "    .dataframe thead th {\n",
       "        text-align: right;\n",
       "    }\n",
       "</style>\n",
       "<table border=\"1\" class=\"dataframe\">\n",
       "  <thead>\n",
       "    <tr style=\"text-align: right;\">\n",
       "      <th></th>\n",
       "      <th>nutriscore_reel</th>\n",
       "      <th>prediction</th>\n",
       "    </tr>\n",
       "  </thead>\n",
       "  <tbody>\n",
       "    <tr>\n",
       "      <th>36013</th>\n",
       "      <td>d</td>\n",
       "      <td>d</td>\n",
       "    </tr>\n",
       "    <tr>\n",
       "      <th>31519</th>\n",
       "      <td>d</td>\n",
       "      <td>d</td>\n",
       "    </tr>\n",
       "    <tr>\n",
       "      <th>37108</th>\n",
       "      <td>d</td>\n",
       "      <td>d</td>\n",
       "    </tr>\n",
       "    <tr>\n",
       "      <th>3809</th>\n",
       "      <td>a</td>\n",
       "      <td>a</td>\n",
       "    </tr>\n",
       "    <tr>\n",
       "      <th>22171</th>\n",
       "      <td>c</td>\n",
       "      <td>c</td>\n",
       "    </tr>\n",
       "  </tbody>\n",
       "</table>\n",
       "</div>"
      ],
      "text/plain": [
       "      nutriscore_reel prediction\n",
       "36013               d          d\n",
       "31519               d          d\n",
       "37108               d          d\n",
       "3809                a          a\n",
       "22171               c          c"
      ]
     },
     "execution_count": 52,
     "metadata": {},
     "output_type": "execute_result"
    }
   ],
   "source": [
    "resultat = pd.DataFrame({'nutriscore_reel' : samples.iloc[:,-1], 'prediction' : num_etiquet_group})\n",
    "resultat"
   ]
  },
  {
   "cell_type": "code",
   "execution_count": null,
   "id": "bd6dd94b",
   "metadata": {},
   "outputs": [],
   "source": []
  },
  {
   "cell_type": "code",
   "execution_count": null,
   "id": "60d54461",
   "metadata": {},
   "outputs": [],
   "source": []
  },
  {
   "cell_type": "code",
   "execution_count": null,
   "id": "3468c29b",
   "metadata": {},
   "outputs": [],
   "source": []
  },
  {
   "cell_type": "markdown",
   "id": "4817056a",
   "metadata": {},
   "source": [
    "**un exemple de code pour scanner un code-barres à l'aide de la bibliothèque \"python-barcode\" et stocker les informations dans un dataframe pandas :**"
   ]
  },
  {
   "cell_type": "markdown",
   "id": "175b3f89",
   "metadata": {},
   "source": [
    "Ce code est un programme de scanner de code-barres. Il utilise la bibliothèque OpenCV pour détecter les codes-barres dans l'image capturée par la caméra de l'ordinateur et l'API Open Food Facts pour récupérer les informations nutritionnelles associées au produit."
   ]
  },
  {
   "cell_type": "code",
   "execution_count": null,
   "id": "4d4e07a5",
   "metadata": {},
   "outputs": [],
   "source": [
    "import cv2\n",
    "import numpy as np\n",
    "import requests\n",
    "from io import BytesIO\n",
    "from PIL import Image\n",
    "import json\n",
    "from typing import Dict\n",
    "\n",
    "def get_nutritional_info(gtin: str) -> Dict[str, float]:\n",
    "    # API endpoint pour récupérer les informations nutritionnelles du produit\n",
    "    url = f\"https://world.openfoodfacts.org/api/v0/product/{gtin}.json\"\n",
    "\n",
    "    # Envoyer une requête à l'API et récupérer la réponse\n",
    "    response = requests.get(url)\n",
    "    data = json.loads(response.text)\n",
    "\n",
    "    # Extraire les données nutritionnelles\n",
    "    nutritional_info: Dict[str, float] = {}\n",
    "    if \"product\" in data and \"nutriments\" in data[\"product\"]:\n",
    "        nutriments = data[\"product\"][\"nutriments\"]\n",
    "        nutritional_info = {\n",
    "            'energy_100g': float(nutriments.get('energy_100g', 0)),\n",
    "            'saturated-fat_100g': float(nutriments.get('saturated-fat_100g', 0)),\n",
    "            'sugars_100g': float(nutriments.get('sugars_100g', 0)),\n",
    "            'proteins_100g': float(nutriments.get('proteins_100g', 0)),\n",
    "            'salt_100g': float(nutriments.get('salt_100g', 0)),\n",
    "            \n",
    "        }\n",
    "    return nutritional_info\n",
    "\n",
    "\n",
    "# Activer la caméra\n",
    "cap = cv2.VideoCapture(0)\n",
    "\n",
    "# Lire l'image depuis la caméra et la décoder\n",
    "while True:\n",
    "    ret, frame = cap.read()\n",
    "    gray = cv2.cvtColor(frame, cv2.COLOR_BGR2GRAY)\n",
    "    \n",
    "    # Détecter les codes-barres avec OpenCV\n",
    "    detector = cv2.QRCodeDetector()\n",
    "    data, bbox, _ = detector.detectAndDecode(gray)\n",
    "    if bbox is not None and data:\n",
    "        # Extraire le code-barres\n",
    "        barcode = data.strip()\n",
    "        if barcode:\n",
    "            # Récupérer les informations nutritionnelles\n",
    "                       \n",
    "            nutritional_info = get_nutritional_info(barcode)\n",
    "            if nutritional_info:\n",
    "                # Créer un DataFrame avec les informations nutritionnelles\n",
    "                columns = ['energy_100g', 'saturated-fat_100g', 'sugars_100g', 'salt_100g', 'calcium_100g' ]\n",
    "                df = pd.DataFrame(nutritional_info, columns=columns, index=[0])\n",
    "                print(df)\n",
    "            else:\n",
    "                print(\"Impossible de récupérer les informations nutritionnelles du produit.\")\n",
    "    \n",
    "    # Afficher l'image avec les codes-barres détectés\n",
    "    cv2.imshow(\"Barcode Scanner\", frame)\n",
    "    if cv2.waitKey(1) & 0xFF == ord('q'):\n",
    "        break\n",
    "\n",
    "cap.release()\n",
    "cv2.destroyAllWindows()\n",
    "\n"
   ]
  },
  {
   "cell_type": "code",
   "execution_count": null,
   "id": "b62d5c72",
   "metadata": {},
   "outputs": [],
   "source": []
  }
 ],
 "metadata": {
  "kernelspec": {
   "display_name": "Python 3 (ipykernel)",
   "language": "python",
   "name": "python3"
  },
  "language_info": {
   "codemirror_mode": {
    "name": "ipython",
    "version": 3
   },
   "file_extension": ".py",
   "mimetype": "text/x-python",
   "name": "python",
   "nbconvert_exporter": "python",
   "pygments_lexer": "ipython3",
   "version": "3.8.15"
  }
 },
 "nbformat": 4,
 "nbformat_minor": 5
}
